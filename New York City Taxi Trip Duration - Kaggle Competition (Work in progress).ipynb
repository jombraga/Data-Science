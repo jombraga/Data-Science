{
 "cells": [
  {
   "cell_type": "markdown",
   "metadata": {},
   "source": [
    "### Exploratory Data Analysis"
   ]
  },
  {
   "cell_type": "code",
   "execution_count": null,
   "metadata": {},
   "outputs": [],
   "source": [
    "import pandas as pd\n",
    "import numpy as np\n",
    "import matplotlib.pyplot as plt\n",
    "import folium\n",
    "from folium import plugins\n",
    "from geopy.distance import geodesic\n",
    "import sklearn\n",
    "from sklearn.manifold import TSNE\n",
    "import datetime  \n",
    "from datetime import date "
   ]
  },
  {
   "cell_type": "markdown",
   "metadata": {},
   "source": [
    "#### 1. Importing data"
   ]
  },
  {
   "cell_type": "code",
   "execution_count": null,
   "metadata": {},
   "outputs": [],
   "source": [
    "taxi_data_train = pd.read_csv('train.csv')\n",
    "taxi_data_test = pd.read_csv('test.csv')\n",
    "\n",
    "\n",
    "taxi_data_train.head()"
   ]
  },
  {
   "cell_type": "code",
   "execution_count": null,
   "metadata": {},
   "outputs": [],
   "source": [
    "taxi_data_test.head()"
   ]
  },
  {
   "cell_type": "markdown",
   "metadata": {},
   "source": [
    "We don't need the ```id```, ```vendor_id```, and the ```store_and_fwd_flag```"
   ]
  },
  {
   "cell_type": "code",
   "execution_count": null,
   "metadata": {},
   "outputs": [],
   "source": [
    "taxi_data_train.drop(['id', 'vendor_id', 'store_and_fwd_flag'], axis=1, inplace=True)\n",
    "taxi_data_test.drop(['id', 'vendor_id', 'store_and_fwd_flag'], axis=1, inplace=True)\n",
    "\n",
    "taxi_data_train.head()"
   ]
  },
  {
   "cell_type": "code",
   "execution_count": null,
   "metadata": {},
   "outputs": [],
   "source": [
    "taxi_data_train.info()"
   ]
  },
  {
   "cell_type": "code",
   "execution_count": null,
   "metadata": {},
   "outputs": [],
   "source": [
    "taxi_data_test.info()"
   ]
  },
  {
   "cell_type": "markdown",
   "metadata": {},
   "source": [
    "There are no missing features on the dataset, no need for data imputaion."
   ]
  },
  {
   "cell_type": "markdown",
   "metadata": {},
   "source": [
    "#### 2. Visualization"
   ]
  },
  {
   "cell_type": "markdown",
   "metadata": {},
   "source": [
    "#### Where do most dropoffs occured?"
   ]
  },
  {
   "cell_type": "code",
   "execution_count": null,
   "metadata": {
    "scrolled": true
   },
   "outputs": [],
   "source": [
    "NYC_map_dropoff = folium.Map(location=[40.7128, -74.0060])\n",
    " \n",
    "heatarr = taxi_data_train[['dropoff_latitude', 'dropoff_longitude']].values\n",
    "NYC_map_dropoff.add_child(plugins.HeatMap(heatarr, radius=15))\n",
    "folium.LayerControl().add_to(NYC_map_dropoff)\n",
    "NYC_map_dropoff"
   ]
  },
  {
   "cell_type": "markdown",
   "metadata": {},
   "source": [
    "The two hostpots are located near the intersection of West 33rd Street and 7th Ave, and around the intersection of 31st Street and 8th Ave.These location border the Pennsylvania Station."
   ]
  },
  {
   "cell_type": "markdown",
   "metadata": {},
   "source": [
    "#### Where do most pickups occured?"
   ]
  },
  {
   "cell_type": "code",
   "execution_count": null,
   "metadata": {},
   "outputs": [],
   "source": [
    "NYC_map_pickup = folium.Map(location=[40.7128, -74.0060])\n",
    " \n",
    "heatarr = taxi_data_train[['pickup_latitude', 'pickup_longitude']].values\n",
    "NYC_map_pickup.add_child(plugins.HeatMap(heatarr, radius=15))\n",
    "folium.LayerControl().add_to(NYC_map_pickup)\n",
    "NYC_map_pickup"
   ]
  },
  {
   "cell_type": "markdown",
   "metadata": {},
   "source": [
    "Pickups are also abundant in the Pennsylvania Station which serves more than 650, 000 daily commuters [1]\n",
    "\n",
    "*** A lot commuters who ride yellow taxis in New York hailed and alight at the Pennsylvania Station. This insight may be useful for policy makers to manage traffic around the area, ensuring a smooth flow traffic. ***"
   ]
  },
  {
   "cell_type": "markdown",
   "metadata": {},
   "source": [
    "[1] New York, NY - Moynihan Trsain Hall At Penn Station https://www.greatamericanstations.com/stations/new-york-penn-station-ny-nyp/"
   ]
  },
  {
   "cell_type": "markdown",
   "metadata": {},
   "source": [
    "#### What is the busiest time for pick up and where is the busiest place?"
   ]
  },
  {
   "cell_type": "code",
   "execution_count": null,
   "metadata": {},
   "outputs": [],
   "source": [
    "pickup_hours = []\n",
    "df = taxi_data_train.copy()\n",
    "\n",
    "for time in df.iterrows():\n",
    "    pickup_hours.append(int(time[1][0][11:13]))\n",
    "    \n",
    "df['Pickup Hour'] = pickup_hours\n",
    "df.head()"
   ]
  },
  {
   "cell_type": "code",
   "execution_count": null,
   "metadata": {},
   "outputs": [],
   "source": [
    "values, counts = np.unique(pickup_hours, return_counts=True)"
   ]
  },
  {
   "cell_type": "code",
   "execution_count": null,
   "metadata": {},
   "outputs": [],
   "source": [
    "plt.plot(values, counts, 'bo', values, counts, 'r')\n",
    "plt.xlabel('Hours')\n",
    "plt.ylabel('Count')\n",
    "plt.title('Number of Pickups in each Hour')"
   ]
  },
  {
   "cell_type": "markdown",
   "metadata": {},
   "source": [
    "Many passengers hail yellow taxi between 18:00 and 19:00, the time when many are leaving for home. There is also a significant drop in activity starting at 0 and acheiving its lowest at 5:00. Activity started to rapidly increase after 5:00. This may be the time when peole are all heading to their repsective works and school."
   ]
  },
  {
   "cell_type": "code",
   "execution_count": null,
   "metadata": {},
   "outputs": [],
   "source": [
    "pickup_hours_peak = df[(df['Pickup Hour'] >= 18) & (df['Pickup Hour'] <= 19)]\n",
    "\n",
    "NYC_map_pickup_hours = folium.Map(location=[40.7128, -74.0060])\n",
    " \n",
    "heatarr = pickup_hours_peak[['pickup_latitude', 'pickup_longitude']].values\n",
    "NYC_map_pickup_hours.add_child(plugins.HeatMap(heatarr, radius=15))\n",
    "folium.LayerControl().add_to(NYC_map_pickup_hours)\n",
    "NYC_map_pickup_hours"
   ]
  },
  {
   "cell_type": "markdown",
   "metadata": {},
   "source": [
    "The busiest place for pickup is at Pennsylvania Station, La Guardia Airport, and John F. Kennedy Airport. People who are leaving for work are probably heading for these transport hubs to go home."
   ]
  },
  {
   "cell_type": "markdown",
   "metadata": {},
   "source": [
    "#### What is the busiest hour for drop off and where is it?"
   ]
  },
  {
   "cell_type": "code",
   "execution_count": null,
   "metadata": {},
   "outputs": [],
   "source": [
    "dropoff_hours = []\n",
    "\n",
    "\n",
    "for time in df.iterrows():\n",
    "    dropoff_hours.append(int(time[1][1][11:13]))\n",
    "    \n",
    "df['Dropoff Hour'] = dropoff_hours\n",
    "df.head()"
   ]
  },
  {
   "cell_type": "code",
   "execution_count": null,
   "metadata": {},
   "outputs": [],
   "source": [
    "values, counts = np.unique(dropoff_hours, return_counts=True)"
   ]
  },
  {
   "cell_type": "code",
   "execution_count": null,
   "metadata": {},
   "outputs": [],
   "source": [
    "plt.plot(values, counts, 'bo', values, counts, 'r')\n",
    "plt.xlabel('Hours')\n",
    "plt.ylabel('Count')\n",
    "plt.title('Number of Dropoffs in each Hour')"
   ]
  },
  {
   "cell_type": "markdown",
   "metadata": {},
   "source": [
    "Similar to pickup, the peak hour for dropoff is at 19:00. However, unlike in pickup, 18:00 did not perfectly match 19:00 in terms of number of activity. This is probably due to the travel time starting at 18:00."
   ]
  },
  {
   "cell_type": "code",
   "execution_count": null,
   "metadata": {
    "scrolled": true
   },
   "outputs": [],
   "source": [
    "dropoff_hours_peak = df[df['Dropoff Hour'] >= 19]\n",
    "\n",
    "NYC_map_dropoff_hours = folium.Map(location=[40.7128, -74.0060])\n",
    " \n",
    "heatarr = dropoff_hours_peak[['dropoff_latitude', 'dropoff_longitude']].values\n",
    "NYC_map_dropoff_hours.add_child(plugins.HeatMap(heatarr, radius=15))\n",
    "folium.LayerControl().add_to(NYC_map_dropoff_hours)\n",
    "NYC_map_dropoff_hours"
   ]
  },
  {
   "cell_type": "markdown",
   "metadata": {},
   "source": [
    "The busiest place for dropoff is still at the mentioned train station and airports. This makes sense since it is highly likely that many people are leaving for work between 18:00 and 19:00 and are heading for transportaion hubs to go home."
   ]
  },
  {
   "cell_type": "markdown",
   "metadata": {},
   "source": [
    "#### When is the busiest day?"
   ]
  },
  {
   "cell_type": "code",
   "execution_count": null,
   "metadata": {},
   "outputs": [],
   "source": [
    "def get_day(date_str):\n",
    "    date, _ = date_str.split()\n",
    "    year, month, day = date.split('-')\n",
    "    day_name = datetime.date(int(year), int(month), int(day)) \n",
    "    day_name = day_name.strftime('%A')\n",
    "    \n",
    "    return day_name"
   ]
  },
  {
   "cell_type": "code",
   "execution_count": null,
   "metadata": {},
   "outputs": [],
   "source": [
    "df['Day'] = df.apply(lambda x: get_day(x.pickup_datetime), axis=1)\n",
    "df.head()"
   ]
  },
  {
   "cell_type": "code",
   "execution_count": null,
   "metadata": {},
   "outputs": [],
   "source": [
    "values, counts = np.unique(df['Day'], return_counts=True)\n",
    "counts = zip(values, counts)\n",
    "days = ['Monday', 'Tuesday', 'Wednesday', 'Thursday', 'Friday', 'Saturday', 'Sunday']\n",
    "days = {v: i for i, v in enumerate(days)}\n",
    "\n",
    "sorted_ = sorted(counts, key=lambda x: days[x[0]])\n",
    "values = [days[0] for days in sorted_]\n",
    "counts = [days[1] for days in sorted_]\n",
    "sorted_"
   ]
  },
  {
   "cell_type": "code",
   "execution_count": null,
   "metadata": {
    "scrolled": false
   },
   "outputs": [],
   "source": [
    "plt.rcParams[\"figure.figsize\"] = (10,5)\n",
    "plt.bar(values, counts)\n",
    "plt.xlabel('Day')\n",
    "plt.ylabel('Count')\n",
    "plt.title('Number of Pickups in each Day')"
   ]
  },
  {
   "cell_type": "markdown",
   "metadata": {},
   "source": [
    "The number of pickups steadily increases as the week progress and drops by Sunday."
   ]
  },
  {
   "cell_type": "code",
   "execution_count": null,
   "metadata": {
    "scrolled": true
   },
   "outputs": [],
   "source": [
    "pickup_day_peak = df[df['Day'] == 'Friday']\n",
    "\n",
    "NYC_map_pickup_day = folium.Map(location=[40.7128, -74.0060])\n",
    " \n",
    "heatarr = pickup_day_peak[['pickup_latitude', 'pickup_longitude']].values\n",
    "NYC_map_pickup_day.add_child(plugins.HeatMap(heatarr, radius=15))\n",
    "folium.LayerControl().add_to(NYC_map_pickup_day)\n",
    "NYC_map_pickup_day"
   ]
  },
  {
   "cell_type": "markdown",
   "metadata": {},
   "source": [
    "#### When is the busiest month?"
   ]
  },
  {
   "cell_type": "code",
   "execution_count": null,
   "metadata": {},
   "outputs": [],
   "source": [
    "def get_month(date_str):\n",
    "    date, _ = date_str.split()\n",
    "    year, month, day = date.split('-')\n",
    "    month_name = datetime.date(int(year), int(month), int(day)) \n",
    "    month_name = month_name.strftime('%B')\n",
    "    \n",
    "    return month_name"
   ]
  },
  {
   "cell_type": "code",
   "execution_count": null,
   "metadata": {},
   "outputs": [],
   "source": [
    "df['Month'] = df.apply(lambda x: get_month(x.pickup_datetime), axis=1)\n",
    "df.head()"
   ]
  },
  {
   "cell_type": "code",
   "execution_count": null,
   "metadata": {},
   "outputs": [],
   "source": [
    "values, counts = np.unique(df['Month'], return_counts=True)\n",
    "counts = zip(values, counts)\n",
    "months = ['January', 'February', 'March', 'April', 'May', 'June', 'July', 'August', 'September', 'October', 'November', 'December' ]\n",
    "months = {v: i for i, v in enumerate(months)}\n",
    "\n",
    "sorted_ = sorted(counts, key=lambda x: months[x[0]])\n",
    "values = [days[0] for days in sorted_]\n",
    "counts = [days[1] for days in sorted_]\n",
    "\n",
    "plt.rcParams[\"figure.figsize\"] = (10,5)\n",
    "plt.bar(values, counts)\n",
    "plt.xlabel('Month')\n",
    "plt.ylabel('Count')\n",
    "plt.title('Number of Pickups in each Month')"
   ]
  },
  {
   "cell_type": "code",
   "execution_count": null,
   "metadata": {},
   "outputs": [],
   "source": [
    "df.to_csv('df.csv')"
   ]
  },
  {
   "cell_type": "markdown",
   "metadata": {},
   "source": [
    "#### Adding distance feature"
   ]
  },
  {
   "cell_type": "code",
   "execution_count": null,
   "metadata": {},
   "outputs": [],
   "source": [
    "def get_distance (pickup_lat, pickup_long, dropoff_lat, dropoff_long):\n",
    "    \n",
    "    distance = geodesic((pickup_lat, pickup_long), (dropoff_lat, dropoff_long)).km\n",
    "    \n",
    "    return distance"
   ]
  },
  {
   "cell_type": "code",
   "execution_count": null,
   "metadata": {},
   "outputs": [],
   "source": [
    "df['distance'] = df.apply(lambda x: get_distance(x.pickup_latitude, x.pickup_longitude, \n",
    "                                                   x.dropoff_latitude, x.dropoff_longitude), axis=1)"
   ]
  },
  {
   "cell_type": "code",
   "execution_count": null,
   "metadata": {},
   "outputs": [],
   "source": [
    "df.head()"
   ]
  },
  {
   "cell_type": "markdown",
   "metadata": {},
   "source": [
    "#### Visualize High Dimesnional Data"
   ]
  },
  {
   "cell_type": "code",
   "execution_count": null,
   "metadata": {},
   "outputs": [],
   "source": []
  }
 ],
 "metadata": {
  "kernelspec": {
   "display_name": "Python 3",
   "language": "python",
   "name": "python3"
  },
  "language_info": {
   "codemirror_mode": {
    "name": "ipython",
    "version": 3
   },
   "file_extension": ".py",
   "mimetype": "text/x-python",
   "name": "python",
   "nbconvert_exporter": "python",
   "pygments_lexer": "ipython3",
   "version": "3.8.5"
  }
 },
 "nbformat": 4,
 "nbformat_minor": 4
}
